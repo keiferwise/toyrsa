{
 "cells": [
  {
   "cell_type": "code",
   "execution_count": 3,
   "metadata": {},
   "outputs": [],
   "source": [
    "def text_Z26(text):\n",
    "    \n",
    "    letters='abcdefghijklmnopqrstuvwxyz'\n",
    "    \n",
    "    Z26=''\n",
    "    for i in text:\n",
    "        Z26+=format(letters.find(i),'02d')  \n",
    "        \n",
    "    return(Z26)"
   ]
  },
  {
   "cell_type": "code",
   "execution_count": 4,
   "metadata": {},
   "outputs": [],
   "source": [
    "def Z26_text(Z26):\n",
    "    \n",
    "    letters='abcdefghijklmnopqrstuvwxyz'\n",
    "    \n",
    "    text=''\n",
    "    for i in range(0,len(Z26),2):\n",
    "        text+=letters[int(Z26[i:i+2])]\n",
    "        \n",
    "    return(text)"
   ]
  },
  {
   "cell_type": "code",
   "execution_count": 5,
   "metadata": {},
   "outputs": [],
   "source": [
    "def EEA_fast(N,a):\n",
    "    \n",
    "    #initialize 2 rows, 3 columns (R,S,T)\n",
    "    R=[N,a]\n",
    "    S=[1,0]\n",
    "    T=[0,1]\n",
    "    \n",
    "    #add rows until remainder = 1 or 0\n",
    "    while R[-1]>1:\n",
    "        S+=[ S[-2] - R[-2]//R[-1]*S[-1] ]\n",
    "        T+=[ T[-2] - R[-2]//R[-1]*T[-1] ]\n",
    "        R+=[ R[-2]%R[-1] ]\n",
    "    \n",
    "    return T[-1]\n",
    "    \n",
    "    #print all rows\n",
    "    #for r,s,t in zip(R,S,T):\n",
    "    #    print (r,s,t)"
   ]
  },
  {
   "cell_type": "code",
   "execution_count": 6,
   "metadata": {},
   "outputs": [],
   "source": [
    "from math import gcd\n",
    "def find_totient(n):\n",
    "    count = 0\n",
    "    for j in range(1, n + 1):\n",
    "        if gcd(n, j) == 1:\n",
    "            count += 1\n",
    "    return count"
   ]
  },
  {
   "cell_type": "code",
   "execution_count": 7,
   "metadata": {},
   "outputs": [],
   "source": [
    "def pad_string(block_size, string):\n",
    "    while len(string)%block_size != 0:\n",
    "        string = string + \"z\"\n",
    "    return string\n",
    "    "
   ]
  },
  {
   "cell_type": "code",
   "execution_count": null,
   "metadata": {},
   "outputs": [],
   "source": [
    "   "
   ]
  },
  {
   "cell_type": "code",
   "execution_count": 8,
   "metadata": {},
   "outputs": [],
   "source": [
    "def find_dec_exp(n,e):\n",
    "    N = find_totient(n)\n",
    "    T = EEA_fast(N,e)\n",
    "    return T"
   ]
  },
  {
   "cell_type": "code",
   "execution_count": 27,
   "metadata": {},
   "outputs": [],
   "source": [
    "def encrypt_block(plain_block,n,e):\n",
    "    num = int(plain_block)\n",
    "    return ((num ** e) % n)"
   ]
  },
  {
   "cell_type": "code",
   "execution_count": 66,
   "metadata": {},
   "outputs": [],
   "source": [
    "def encrypt_string(block_size, plain_text,n,e):\n",
    "    #convert string into list of integer blocks\n",
    "    padded_string = pad_string(block_size,plain_text)\n",
    "    z26_plain_text = text_Z26(padded_string)\n",
    "    print(padded_string)\n",
    "    print(z26_plain_text)\n",
    "    i = len(z26_plain_text)\n",
    "    k = 0\n",
    "    block_count = 0\n",
    "    block_list = list()\n",
    "    #print(str(i))\n",
    "\n",
    "    while k < i:\n",
    "        next_block = z26_plain_text[k:(k+block_size)]\n",
    "        print(next_block)\n",
    "        block_list.append(next_block)\n",
    "        k+=block_size\n",
    "    print(block_list)\n",
    "    #encrypt all the blocks\n",
    "    #zfill(block_sizef)\n",
    "    cipher_text = ''\n",
    "    for b in block_list:\n",
    "        cipher_text = cipher_text + str(encrypt_block(b,n,e)).zfill(block_size)\n",
    "    print(cipher_text)\n",
    "    return"
   ]
  },
  {
   "cell_type": "code",
   "execution_count": 67,
   "metadata": {},
   "outputs": [],
   "source": [
    "def decrypt_block(cipher_block,n,d):\n",
    "    num = int(cipher_block)\n",
    "    return ((num ** d) % n)"
   ]
  },
  {
   "cell_type": "code",
   "execution_count": 68,
   "metadata": {},
   "outputs": [],
   "source": [
    "def decrypt_string(block_size, cipher_text,n,d):\n",
    "    i = len(cipher_text)\n",
    "    k = 0\n",
    "    block_list = list()\n",
    "\n",
    "    while k < i:\n",
    "        next_block = cipher_text[k:(k+block_size)]\n",
    "        print(next_block)\n",
    "        block_list.append(next_block)\n",
    "        \n",
    "        k+=block_size\n",
    "    print(block_list)\n",
    "    plain_text = ''\n",
    "    for b in block_list:\n",
    "        plain_text = plain_text + str(decrypt_block(b,n,d)).zfill(block_size)\n",
    "    print(plain_text)\n",
    "    return\n"
   ]
  },
  {
   "cell_type": "code",
   "execution_count": 76,
   "metadata": {},
   "outputs": [
    {
     "name": "stdout",
     "output_type": "stream",
     "text": [
      "thisismystringzz\n",
      "19070818081812241819170813062525\n",
      "1907\n",
      "0818\n",
      "0818\n",
      "1224\n",
      "1819\n",
      "1708\n",
      "1306\n",
      "2525\n",
      "['1907', '0818', '0818', '1224', '1819', '1708', '1306', '2525']\n",
      "28751483148321511194289107470251\n",
      "2875\n",
      "1483\n",
      "1483\n",
      "2151\n",
      "1194\n",
      "2891\n",
      "0747\n",
      "0251\n",
      "['2875', '1483', '1483', '2151', '1194', '2891', '0747', '0251']\n",
      "19070818081812241819170813062525\n"
     ]
    }
   ],
   "source": [
    "encrypt_string(4,'thisismystring',3149,17)\n",
    "decrypt_string(4,'28751483148321511194289107470251',3149,EEA_fast(find_totient(3149),17))"
   ]
  },
  {
   "cell_type": "code",
   "execution_count": null,
   "metadata": {},
   "outputs": [],
   "source": []
  },
  {
   "cell_type": "code",
   "execution_count": null,
   "metadata": {},
   "outputs": [],
   "source": []
  }
 ],
 "metadata": {
  "kernelspec": {
   "display_name": "Python 3",
   "language": "python",
   "name": "python3"
  },
  "language_info": {
   "codemirror_mode": {
    "name": "ipython",
    "version": 3
   },
   "file_extension": ".py",
   "mimetype": "text/x-python",
   "name": "python",
   "nbconvert_exporter": "python",
   "pygments_lexer": "ipython3",
   "version": "3.7.4"
  }
 },
 "nbformat": 4,
 "nbformat_minor": 2
}
