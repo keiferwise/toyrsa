{
 "cells": [
  {
   "cell_type": "code",
   "execution_count": null,
   "metadata": {},
   "outputs": [],
   "source": [
    "def text_Z26(text):\n",
    "    \n",
    "    letters='abcdefghijklmnopqrstuvwxyz_ '\n",
    "    \n",
    "    Z26=''\n",
    "    for i in text:\n",
    "        Z26+=format(letters.find(i),'02d')  \n",
    "        \n",
    "    return(Z26)"
   ]
  },
  {
   "cell_type": "code",
   "execution_count": null,
   "metadata": {},
   "outputs": [],
   "source": [
    "def Z26_text(Z26):\n",
    "    \n",
    "    letters='abcdefghijklmnopqrstuvwxyz_ '\n",
    "    \n",
    "    text=''\n",
    "    for i in range(0,len(Z26),2):\n",
    "        text+=letters[int(Z26[i:i+2])]\n",
    "        \n",
    "    return(text)"
   ]
  },
  {
   "cell_type": "code",
   "execution_count": null,
   "metadata": {},
   "outputs": [],
   "source": [
    "def pad_string(block_size, string):\n",
    "    while len(string)%block_size != 0:\n",
    "        string = string + \" \"\n",
    "    return string\n",
    "    "
   ]
  },
  {
   "cell_type": "code",
   "execution_count": null,
   "metadata": {},
   "outputs": [],
   "source": [
    "def EEA_fast(N,a):\n",
    "    \n",
    "    #initialize 2 rows, 3 columns (R,S,T)\n",
    "    R=[N,a]\n",
    "    S=[1,0]\n",
    "    T=[0,1]\n",
    "    \n",
    "    #add rows until remainder = 1 or 0\n",
    "    while R[-1]>1:\n",
    "        S+=[ S[-2] - R[-2]//R[-1]*S[-1] ]\n",
    "        T+=[ T[-2] - R[-2]//R[-1]*T[-1] ]\n",
    "        R+=[ R[-2]%R[-1] ]\n",
    "    \n",
    "    return T[-1]\n",
    "    \n",
    "    #print all rows\n",
    "    #for r,s,t in zip(R,S,T):\n",
    "    #    print (r,s,t)"
   ]
  },
  {
   "cell_type": "code",
   "execution_count": null,
   "metadata": {},
   "outputs": [],
   "source": [
    "from math import gcd\n",
    "def find_totient(n):\n",
    "    count = 0\n",
    "    for j in range(1, n + 1):\n",
    "        if gcd(n, j) == 1:\n",
    "            count += 1\n",
    "    return count"
   ]
  },
  {
   "cell_type": "code",
   "execution_count": null,
   "metadata": {},
   "outputs": [],
   "source": [
    "def find_dec_exp(n,e):\n",
    "    N = find_totient(n)\n",
    "    T = EEA_fast(N,e)\n",
    "    return T"
   ]
  },
  {
   "cell_type": "code",
   "execution_count": null,
   "metadata": {},
   "outputs": [],
   "source": [
    "def encrypt_block(plain_block,n,e):\n",
    "    num = int(plain_block)\n",
    "    return ((num ** e) % n)"
   ]
  },
  {
   "cell_type": "code",
   "execution_count": null,
   "metadata": {},
   "outputs": [],
   "source": [
    "def encrypt_string(block_size, plain_text,n,e):\n",
    "    #convert string into list of integer blocks\n",
    "    padded_string = pad_string(block_size,plain_text)\n",
    "    z26_plain_text = text_Z26(padded_string)\n",
    "    i = len(z26_plain_text)\n",
    "    k = 0\n",
    "    block_count = 0\n",
    "    block_list = list()\n",
    "    while k < i:\n",
    "        next_block = z26_plain_text[k:(k+block_size)]\n",
    "        block_list.append(next_block)\n",
    "        k+=block_size\n",
    "    #encrypt all the blocks\n",
    "    cipher_text = ''\n",
    "    for b in block_list:\n",
    "        cipher_text = cipher_text + str(encrypt_block(b,n,e)).zfill(block_size)\n",
    "    return cipher_text"
   ]
  },
  {
   "cell_type": "code",
   "execution_count": null,
   "metadata": {},
   "outputs": [],
   "source": [
    "def decrypt_block(cipher_block,n,d):\n",
    "    num = int(cipher_block)\n",
    "    return ((num ** d) % n)"
   ]
  },
  {
   "cell_type": "code",
   "execution_count": null,
   "metadata": {},
   "outputs": [],
   "source": [
    "def decrypt_string(block_size, cipher_text,n,d):\n",
    "    i = len(cipher_text)\n",
    "    k = 0\n",
    "    block_list = list()\n",
    "\n",
    "    while k < i:\n",
    "        next_block = cipher_text[k:(k+block_size)]\n",
    "        block_list.append(next_block)\n",
    "        k+=block_size\n",
    "    plain_text = ''\n",
    "    for b in block_list:\n",
    "        plain_text = plain_text + str(decrypt_block(b,n,d)).zfill(block_size)\n",
    "    return Z26_text(plain_text)\n"
   ]
  },
  {
   "cell_type": "code",
   "execution_count": null,
   "metadata": {},
   "outputs": [],
   "source": [
    "#alter this variable to change the message you want to encrypt\n",
    "my_input_text = \"hello world\"\n",
    "e = 17\n",
    "n = 3149\n",
    "block_size = 4\n",
    "d = EEA_fast(find_totient(3149),17)\n",
    "\n",
    "my_cipher_text = encrypt_string(block_size,my_input_text,n,e)\n",
    "my_plain_text = decrypt_string(block_size,my_cipher_text,n,d)\n",
    "print(my_input_text)\n",
    "print(my_cipher_text)\n",
    "print(my_plain_text)\n"
   ]
  }
 ],
 "metadata": {
  "kernelspec": {
   "display_name": "Python 3",
   "language": "python",
   "name": "python3"
  },
  "language_info": {
   "codemirror_mode": {
    "name": "ipython",
    "version": 3
   },
   "file_extension": ".py",
   "mimetype": "text/x-python",
   "name": "python",
   "nbconvert_exporter": "python",
   "pygments_lexer": "ipython3",
   "version": "3.7.4"
  }
 },
 "nbformat": 4,
 "nbformat_minor": 2
}
