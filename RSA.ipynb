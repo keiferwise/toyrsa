{
 "cells": [
  {
   "cell_type": "code",
   "execution_count": 48,
   "metadata": {},
   "outputs": [],
   "source": [
    "def text_Z26(text):\n",
    "    \n",
    "    letters='abcdefghijklmnopqrstuvwxyz_ '\n",
    "    \n",
    "    Z26=''\n",
    "    for i in text:\n",
    "        Z26+=format(letters.find(i),'02d')  \n",
    "        \n",
    "    return(Z26)"
   ]
  },
  {
   "cell_type": "code",
   "execution_count": 49,
   "metadata": {},
   "outputs": [],
   "source": [
    "def Z26_text(Z26):\n",
    "    \n",
    "    letters='abcdefghijklmnopqrstuvwxyz_ '\n",
    "    \n",
    "    text=''\n",
    "    for i in range(0,len(Z26),2):\n",
    "        text+=letters[int(Z26[i:i+2])]\n",
    "        \n",
    "    return(text)"
   ]
  },
  {
   "cell_type": "code",
   "execution_count": 28,
   "metadata": {},
   "outputs": [],
   "source": [
    "def EEA_fast(N,a):\n",
    "    \n",
    "    #initialize 2 rows, 3 columns (R,S,T)\n",
    "    R=[N,a]\n",
    "    S=[1,0]\n",
    "    T=[0,1]\n",
    "    \n",
    "    #add rows until remainder = 1 or 0\n",
    "    while R[-1]>1:\n",
    "        S+=[ S[-2] - R[-2]//R[-1]*S[-1] ]\n",
    "        T+=[ T[-2] - R[-2]//R[-1]*T[-1] ]\n",
    "        R+=[ R[-2]%R[-1] ]\n",
    "    \n",
    "    return T[-1]\n",
    "    \n",
    "    #print all rows\n",
    "    #for r,s,t in zip(R,S,T):\n",
    "    #    print (r,s,t)"
   ]
  },
  {
   "cell_type": "code",
   "execution_count": 29,
   "metadata": {},
   "outputs": [],
   "source": [
    "from math import gcd\n",
    "def find_totient(n):\n",
    "    count = 0\n",
    "    for j in range(1, n + 1):\n",
    "        if gcd(n, j) == 1:\n",
    "            count += 1\n",
    "    return count"
   ]
  },
  {
   "cell_type": "code",
   "execution_count": 30,
   "metadata": {},
   "outputs": [],
   "source": [
    "def pad_string(block_size, string):\n",
    "    while len(string)%block_size != 0:\n",
    "        string = string + \"_\"\n",
    "    return string\n",
    "    "
   ]
  },
  {
   "cell_type": "code",
   "execution_count": null,
   "metadata": {},
   "outputs": [],
   "source": [
    "   "
   ]
  },
  {
   "cell_type": "code",
   "execution_count": 31,
   "metadata": {},
   "outputs": [],
   "source": [
    "def find_dec_exp(n,e):\n",
    "    N = find_totient(n)\n",
    "    T = EEA_fast(N,e)\n",
    "    return T"
   ]
  },
  {
   "cell_type": "code",
   "execution_count": 32,
   "metadata": {},
   "outputs": [],
   "source": [
    "def encrypt_block(plain_block,n,e):\n",
    "    num = int(plain_block)\n",
    "    return ((num ** e) % n)"
   ]
  },
  {
   "cell_type": "code",
   "execution_count": 40,
   "metadata": {},
   "outputs": [],
   "source": [
    "def encrypt_string(block_size, plain_text,n,e):\n",
    "    #convert string into list of integer blocks\n",
    "    padded_string = pad_string(block_size,plain_text)\n",
    "    z26_plain_text = text_Z26(padded_string)\n",
    "    i = len(z26_plain_text)\n",
    "    k = 0\n",
    "    block_count = 0\n",
    "    block_list = list()\n",
    "    while k < i:\n",
    "        next_block = z26_plain_text[k:(k+block_size)]\n",
    "        block_list.append(next_block)\n",
    "        k+=block_size\n",
    "    print(block_list)\n",
    "    #encrypt all the blocks\n",
    "    cipher_text = ''\n",
    "    for b in block_list:\n",
    "        cipher_text = cipher_text + str(encrypt_block(b,n,e)).zfill(block_size)\n",
    "    \n",
    "    return cipher_text"
   ]
  },
  {
   "cell_type": "code",
   "execution_count": 41,
   "metadata": {},
   "outputs": [],
   "source": [
    "def decrypt_block(cipher_block,n,d):\n",
    "    num = int(cipher_block)\n",
    "    return ((num ** d) % n)"
   ]
  },
  {
   "cell_type": "code",
   "execution_count": 44,
   "metadata": {},
   "outputs": [],
   "source": [
    "def decrypt_string(block_size, cipher_text,n,d):\n",
    "    i = len(cipher_text)\n",
    "    k = 0\n",
    "    block_list = list()\n",
    "\n",
    "    while k < i:\n",
    "        next_block = cipher_text[k:(k+block_size)]\n",
    "        block_list.append(next_block)\n",
    "        k+=block_size\n",
    "    plain_text = ''\n",
    "    for b in block_list:\n",
    "        plain_text = plain_text + str(decrypt_block(b,n,d)).zfill(block_size)\n",
    "    return Z26_text(plain_text)\n"
   ]
  },
  {
   "cell_type": "code",
   "execution_count": 51,
   "metadata": {},
   "outputs": [
    {
     "name": "stdout",
     "output_type": "stream",
     "text": [
      "this is my string___\n",
      "1907081827081827122427181917081306262626\n",
      "1907\n",
      "0818\n",
      "2708\n",
      "1827\n",
      "1224\n",
      "2718\n",
      "1917\n",
      "0813\n",
      "0626\n",
      "2626\n",
      "['1907', '0818', '2708', '1827', '1224', '2718', '1917', '0813', '0626', '2626']\n",
      "2875148309842419215107672862120301701150\n",
      "2875\n",
      "1483\n",
      "0984\n",
      "2419\n",
      "2151\n",
      "0767\n",
      "2862\n",
      "1203\n",
      "0170\n",
      "1150\n",
      "['2875', '1483', '0984', '2419', '2151', '0767', '2862', '1203', '0170', '1150']\n",
      "this is my string___\n"
     ]
    }
   ],
   "source": [
    "my_cipher_text = encrypt_string(4,'this is my string',3149,17)\n",
    "print(my_cipher_text)\n",
    "my_plain_text = decrypt_string(4,my_cipher_text,3149,EEA_fast(find_totient(3149),17))\n",
    "print(my_plain_text)"
   ]
  },
  {
   "cell_type": "code",
   "execution_count": null,
   "metadata": {},
   "outputs": [],
   "source": []
  },
  {
   "cell_type": "code",
   "execution_count": null,
   "metadata": {},
   "outputs": [],
   "source": []
  }
 ],
 "metadata": {
  "kernelspec": {
   "display_name": "Python 3",
   "language": "python",
   "name": "python3"
  },
  "language_info": {
   "codemirror_mode": {
    "name": "ipython",
    "version": 3
   },
   "file_extension": ".py",
   "mimetype": "text/x-python",
   "name": "python",
   "nbconvert_exporter": "python",
   "pygments_lexer": "ipython3",
   "version": "3.7.4"
  }
 },
 "nbformat": 4,
 "nbformat_minor": 2
}
